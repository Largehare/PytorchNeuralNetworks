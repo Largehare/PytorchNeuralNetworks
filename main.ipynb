{
 "cells": [
  {
   "cell_type": "code",
   "execution_count": 1,
   "metadata": {},
   "outputs": [],
   "source": [
    "# 1.导入必要的库\n",
    "# 查看GPU信息：https://discuss.pytorch.org/t/i-have-3-gpu-why-torch-cuda-device-count-only-return-1/7245\n",
    "#   解决CUDA版本不能绘制图像问题  https://pretagteam.com/question/dead-kernel-after-running-torchvisionutilsmakegridimages\n",
    "import os\n",
    "os.environ['KMP_DUPLICATE_LIB_OK'] = 'True'\n",
    "import torch\n",
    "import sys\n",
    "from torch.optim import lr_scheduler\n",
    "import torch.nn as nn\n",
    "import torch.nn.functional as F\n",
    "from torch.autograd import Variable\n",
    "from torch.utils.data import DataLoader\n",
    "import torchvision.datasets as dsets\n",
    "import torchvision\n",
    "import torchvision.transforms as trans\n",
    "import time\n",
    "from torch.utils.tensorboard import SummaryWriter   \n",
    "from subprocess import call\n",
    "import matplotlib.pyplot as plt\n",
    "import numpy as np"
   ]
  },
  {
   "cell_type": "code",
   "execution_count": 2,
   "metadata": {},
   "outputs": [
    {
     "name": "stdout",
     "output_type": "stream",
     "text": [
      "__Python VERSION: 3.8.12 (default, Oct 12 2021, 03:01:40) [MSC v.1916 64 bit (AMD64)]\n",
      "__pyTorch VERSION: 1.10.0+cu102\n",
      "__pyTorchVision VERSION: 0.11.1+cu102\n",
      "__CUDA VERSION\n",
      "nvcc: NVIDIA (R) Cuda compiler driver__CUDNN VERSION:\n",
      "Copyright (c) 2005-2019 NVIDIA Corporation\n",
      "Built on Wed_Oct_23_19:32:27_Pacific_Daylight_Time_2019\n",
      "Cuda compilation tools, release 10.2, V10.2.89\n",
      " 7605\n",
      "__Number CUDA Devices: 1\n",
      "__Devices\n",
      "Active CUDA Device: GPU 0\n",
      "Available devices  1\n",
      "Current cuda device  0\n"
     ]
    }
   ],
   "source": [
    "# 输出Pytorch以及CUDA信息\n",
    "print('__Python VERSION:', sys.version)\n",
    "print('__pyTorch VERSION:', torch.__version__)\n",
    "print('__pyTorchVision VERSION:', torchvision.__version__)\n",
    "print('__CUDA VERSION')\n",
    "! nvcc --version\n",
    "print('__CUDNN VERSION:', torch.backends.cudnn.version())\n",
    "print('__Number CUDA Devices:', torch.cuda.device_count())\n",
    "print('__Devices')\n",
    "call([\"nvidia-smi\", \"--format=csv\", \"--query-gpu=index,name,driver_version,memory.total,memory.used,memory.free\"])\n",
    "print('Active CUDA Device: GPU', torch.cuda.current_device())\n",
    "print ('Available devices ', torch.cuda.device_count())\n",
    "print ('Current cuda device ', torch.cuda.current_device())\n"
   ]
  },
  {
   "cell_type": "code",
   "execution_count": 3,
   "metadata": {},
   "outputs": [],
   "source": [
    "\n",
    "# 超参数\n",
    "BATCH_SIZE = 100 #训练时每次送入图片的数量\n",
    "nepochs = 4 #训练次数\n",
    "LR = 0.001 #学习率\n",
    "\n",
    "# 定义损失函数为交叉熵损失 loss_func\n",
    "loss_func = nn.CrossEntropyLoss()\n",
    "\n",
    "# 可以在GPU或者CPU上运行\n",
    "device = torch.device('cuda' if torch.cuda.is_available() else 'cpu')"
   ]
  },
  {
   "cell_type": "code",
   "execution_count": 4,
   "metadata": {},
   "outputs": [],
   "source": [
    "# 2.CIFAR10数据集的预处理\n",
    "n_train_samples = 5000\n",
    "# 全局取消证书验证\n",
    "import ssl\n",
    "ssl._create_default_https_context = ssl._create_unverified_context\n",
    "# 如果是多进程需要加一个main函数，否则会报错\n",
    "if __name__ == '__main__':\n",
    "    \n",
    "    # 数据增强-->训练集\n",
    "    train_set = dsets.CIFAR10(root='CIFAR10/',  # 数据集保存路径\n",
    "                              train=True,\n",
    "                              download=False,   # 如果未下载，改为True；如果已经下载好，改为False\n",
    "                              transform=trans.Compose([\n",
    "                                 trans.RandomHorizontalFlip(),\n",
    "                                 trans.RandomCrop(32, padding=4),\n",
    "                                 trans.ToTensor(),\n",
    "                                 trans.Normalize((0.5, 0.5, 0.5), (0.5, 0.5, 0.5)),\n",
    "                             ]))\n",
    "    # train_subSet = torch.utils.data.dataset.Subset(train_set, range(0,n_train_samples))\n",
    "    train_dl = DataLoader(train_set,\n",
    "                          batch_size=BATCH_SIZE,\n",
    "                          shuffle=True,\n",
    "                          num_workers=6,\n",
    "                          )        # 多进程\n",
    "    \n",
    "    \n",
    "    # 测试集\n",
    "    test_set = dsets.CIFAR10(root='CIFAR10/',   # 数据集保存路径\n",
    "                             train=False,\n",
    "                             download=False,    # 如果未下载，改为True；如果已经下载好，改为False\n",
    "                             transform=trans.Compose([\n",
    "                                trans.ToTensor(),\n",
    "                                trans.Normalize((0.5, 0.5, 0.5), (0.5, 0.5, 0.5))\n",
    "                            ]))\n",
    "    \n",
    "    test_dl = DataLoader(test_set,\n",
    "                         batch_size=BATCH_SIZE,\n",
    "                         num_workers=6)         # 多进程"
   ]
  },
  {
   "cell_type": "code",
   "execution_count": 5,
   "metadata": {},
   "outputs": [
    {
     "name": "stdout",
     "output_type": "stream",
     "text": [
      "训练集大小:50000\n",
      "测试集大小:10000\n",
      "一张图片的数组size:(32, 32, 3)\n"
     ]
    },
    {
     "data": {
      "image/png": "[encoded data removed]",
      "text/plain": [
       "<Figure size 432x288 with 3 Axes>"
      ]
     },
     "metadata": {
      "needs_background": "light"
     },
     "output_type": "display_data"
    }
   ],
   "source": [
    "#输出CIFAR-10数据集训练集、测试集大小\n",
    "print(\"训练集大小:{}\".format(train_set.data.shape[0]))\n",
    "print(\"测试集大小:{}\".format(test_set.data.shape[0]))\n",
    "#所有类别名称及与label对应情况\n",
    "\n",
    "# 显示3张测试集图像\n",
    "def show(img):\n",
    "    # unnormalize（反归一化），因为前面数据进行load时使用的\n",
    "    # transforms.Normalize((0.5, 0.5, 0.5), (0.5, 0.5, 0.5))\n",
    "    # 是先减0.5再除以0.5，现在反过来\n",
    "    img = img / 2 + 0.5\n",
    "    npimg = img.cpu().numpy()# 避免gpu形式的数据\n",
    "    plt.imshow(np.transpose(npimg, (1,2,0)), interpolation='nearest') #从数据库拿出来的图片是(3,x,x)形式，所以需要转化一下\n",
    "print(\"一张图片的数组size:{}\".format(train_set.data[50].shape))\n",
    "for i in range(1,4):\n",
    "    plt.subplot(1,3,i)\n",
    "    plt.axis(\"off\")\n",
    "    test_img, _ = test_set[50+i]\n",
    "    show(test_img)\n",
    "plt.tight_layout()"
   ]
  },
  {
   "cell_type": "code",
   "execution_count": 6,
   "metadata": {},
   "outputs": [],
   "source": [
    "# 3.定义训练的辅助函数，其中包括误差 error 与正确率 accuracy\n",
    "def eval(model, loss_func, dataloader):\n",
    "\n",
    "    model.eval()\n",
    "    loss, accuracy = 0, 0\n",
    "    \n",
    "    # torch.no_grad显示地告诉pytorch，前向传播的时候不需要存储计算图\n",
    "    with torch.no_grad():\n",
    "        for batch_x, batch_y in dataloader:\n",
    "            batch_x, batch_y = batch_x.to(device), batch_y.to(device)\n",
    "\n",
    "            logits = model(batch_x)\n",
    "            error = loss_func(logits, batch_y)\n",
    "            loss += error.item()\n",
    "\n",
    "            probs, pred_y = logits.data.max(dim=1)\n",
    "            accuracy += (pred_y==batch_y.data).float().sum()/batch_y.size(0)\n",
    "\n",
    "    loss /= len(dataloader)\n",
    "    accuracy = accuracy*100.0/len(dataloader)\n",
    "    return loss, accuracy\n",
    "\n",
    "\n",
    "def train_epoch(model, loss_func, optimizer, dataloader):\n",
    "\n",
    "    model.train()\n",
    "    for batch_x, batch_y in dataloader:\n",
    "        batch_x, batch_y = batch_x.to(device), batch_y.to(device)\n",
    "        optimizer.zero_grad()\n",
    "        logits = model(batch_x)\n",
    "        error = loss_func(logits, batch_y)\n",
    "        error.backward()\n",
    "        optimizer.step()"
   ]
  },
  {
   "cell_type": "code",
   "execution_count": 7,
   "metadata": {},
   "outputs": [],
   "source": [
    "# 定义卷积层，在CNNNetNet中，均使用3x3的卷积核\n",
    "def conv3x3(in_features, out_features): \n",
    "    return nn.Conv2d(in_features, out_features, kernel_size=3, padding=1)"
   ]
  },
  {
   "cell_type": "code",
   "execution_count": 8,
   "metadata": {},
   "outputs": [],
   "source": [
    "# 搭建CNNNet\n",
    "class CNNNet(nn.Module):\n",
    "    def __init__(self):\n",
    "        super(CNNNet, self).__init__()\n",
    "        \n",
    "        # Convolutional layers\n",
    "        self.conv1 = nn.Conv2d(3, 16, 3, padding=1)\n",
    "        self.conv2 = nn.Conv2d(16, 32, 3, padding=1)\n",
    "        self.conv3 = nn.Conv2d(32, 64, 3, padding=1)\n",
    "        \n",
    "        # Pooling layers\n",
    "        self.pool = nn.MaxPool2d(2,2)\n",
    "        \n",
    "        # FC layers\n",
    "        # Linear layer (64x4x4 -> 500)\n",
    "        self.fc1 = nn.Linear(64 * 4 * 4, 500)\n",
    "        \n",
    "        # Linear Layer (500 -> 10)\n",
    "        self.fc2 = nn.Linear(500, 10)\n",
    "        \n",
    "        # Dropout layer\n",
    "        self.dropout = nn.Dropout(0.25)\n",
    "        \n",
    "    def forward(self, x):\n",
    "        x = self.pool(F.elu(self.conv1(x)))\n",
    "        x = self.pool(F.elu(self.conv2(x)))\n",
    "        x = self.pool(F.elu(self.conv3(x)))\n",
    "        \n",
    "        # Flatten the image\n",
    "        x = x.view(-1, 64*4*4)\n",
    "        x = self.dropout(x)\n",
    "        x = F.elu(self.fc1(x))\n",
    "        x = self.dropout(x)\n",
    "        x = self.fc2(x)\n",
    "        return x\n"
   ]
  },
  {
   "cell_type": "code",
   "execution_count": 23,
   "metadata": {},
   "outputs": [
    {
     "name": "stdout",
     "output_type": "stream",
     "text": [
      "成功加载已有模型\n",
      "CNNNet(\n",
      "  (conv1): Conv2d(3, 16, kernel_size=(3, 3), stride=(1, 1), padding=(1, 1))\n",
      "  (conv2): Conv2d(16, 32, kernel_size=(3, 3), stride=(1, 1), padding=(1, 1))\n",
      "  (conv3): Conv2d(32, 64, kernel_size=(3, 3), stride=(1, 1), padding=(1, 1))\n",
      "  (pool): MaxPool2d(kernel_size=2, stride=2, padding=0, dilation=1, ceil_mode=False)\n",
      "  (fc1): Linear(in_features=1024, out_features=500, bias=True)\n",
      "  (fc2): Linear(in_features=500, out_features=10, bias=True)\n",
      "  (dropout): Dropout(p=0.25, inplace=False)\n",
      ")\n"
     ]
    }
   ],
   "source": [
    "isTrained = None\n",
    "# 尝试加载已有模型\n",
    "try:\n",
    "    cnnNet = torch.load('./model/cnnNet.pkl')\n",
    "    print(\"成功加载已有模型\")\n",
    "    isTrained = True\n",
    "except:\n",
    "    print(\"未检测到已有模型，新建训练模型\")\n",
    "    isTrained = False\n",
    "    cnnNet = CNNNet().to(device)\n",
    "    # 使用Adam进行优化处理\n",
    "    optimizer = torch.optim.Adam(cnnNet.parameters(), lr=LR)\n",
    "    scheduler = lr_scheduler.MultiStepLR(optimizer, milestones=[40], gamma=0.1)\n",
    "    learn_history = []\n",
    "# 可以通过打印CNNNet观察具体的网络结构\n",
    "print(cnnNet) \n",
    "\n"
   ]
  },
  {
   "cell_type": "code",
   "execution_count": 24,
   "metadata": {
    "scrolled": true
   },
   "outputs": [],
   "source": [
    "\n",
    "if not isTrained:\n",
    "    isTrained = True\n",
    "    print('开始训练cnnNet……')\n",
    "    # tensorboard教程：https://www.cnblogs.com/sddai/p/14516691.html\n",
    "    writer = SummaryWriter('./log')#使用tensorboard\n",
    "    \n",
    "    # dummy_input = torch.rand(50000, 3, 32, 32)  # 假设输入50000张3*32*32的图片\n",
    "    # writer.add_graph(cnnNet,(dummy_input,))#写入神经网络结构\n",
    "    for epoch in range(nepochs):\n",
    "        # 训练开始时间\n",
    "        since = time.time()\n",
    "        train_epoch(cnnNet, loss_func, optimizer, train_dl)\n",
    "        \n",
    "        # 每训练5轮输出一次结果\n",
    "        if (epoch)%1 == 0:\n",
    "            tr_loss, tr_acc = eval(cnnNet, loss_func, train_dl)\n",
    "            te_loss, te_acc = eval(cnnNet, loss_func, test_dl)\n",
    "            learn_history.append((tr_loss, tr_acc, te_loss, te_acc))\n",
    "            writer.add_scalar('tr_loss', tr_loss, epoch)\n",
    "            writer.add_scalar('tr_acc', tr_acc, epoch)\n",
    "            # 完成一批次训练的结束时间\n",
    "            now = time.time()\n",
    "            print('[%3d/%d, %.0f seconds]|\\t 训练误差: %.1e, 训练正确率: %.2f\\t |\\t 测试误差: %.1e, 测试正确率: %.2f'%(\n",
    "                epoch+1, nepochs, now-since, tr_loss, tr_acc, te_loss, te_acc))\n",
    "    writer.close()\n",
    "    # 保存训练模型\n",
    "    torch.save(cnnNet, './model/cnnNet.pkl')#如果没有model文件需要手动创建一个"
   ]
  },
  {
   "cell_type": "code",
   "execution_count": 26,
   "metadata": {},
   "outputs": [
    {
     "name": "stdout",
     "output_type": "stream",
     "text": [
      "真实标签: frog 6\n",
      "预测标签: frog 6\n",
      "所有标签预测概率: tensor([1.2722e-04, 3.9499e-05, 1.7193e-01, 2.5023e-02, 9.5734e-02, 4.9547e-03,\n",
      "        6.9850e-01, 3.6764e-03, 8.3285e-06, 1.0205e-05], device='cuda:0',\n",
      "       grad_fn=<SoftmaxBackward0>)\n",
      "预测概率: 0.6984983682632446\n"
     ]
    },
    {
     "data": {
      "image/png": "[encoded data removed]",
      "text/plain": [
       "<Figure size 432x288 with 1 Axes>"
      ]
     },
     "metadata": {
      "needs_background": "light"
     },
     "output_type": "display_data"
    }
   ],
   "source": [
    "torch.cuda.empty_cache()\n",
    "#预测\n",
    "CIFAR_LABELS = ('airplane', 'automobile', 'bird', 'cat', 'deer', 'dog', 'frog', 'horse', 'ship', 'truck')\n",
    "def tell(img, label, model, target_label=None):\n",
    "    print(\"真实标签:\", CIFAR_LABELS[label], label)\n",
    "    print(\"预测标签:\", CIFAR_LABELS[model(img.unsqueeze(0)).max(-1)[1]], model(img.unsqueeze(0)).max(-1)[1][0].item())\n",
    "    print(\"所有标签预测概率:\", F.softmax(model(img.unsqueeze(0)).squeeze(), dim=0))\n",
    "    print(\"预测概率:\", F.softmax(model(img.unsqueeze(0)).squeeze(), dim=0)[label].item())\n",
    "    if target_label is not None:\n",
    "        print(\"Target Label Probability:\", F.softmax(model(img.unsqueeze(0)).squeeze(), dim=0)[target_label].item())\n",
    "test_img, test_label = test_set[501]\n",
    "test_img = test_img.to(device)\n",
    "show(test_img)\n",
    "tell(test_img, test_label, cnnNet)"
   ]
  },
  {
   "cell_type": "code",
   "execution_count": null,
   "metadata": {},
   "outputs": [],
   "source": []
  }
 ],
 "metadata": {
  "kernelspec": {
   "display_name": "Python 3",
   "language": "python",
   "name": "python3"
  },
  "language_info": {
   "codemirror_mode": {
    "name": "ipython",
    "version": 3
   },
   "file_extension": ".py",
   "mimetype": "text/x-python",
   "name": "python",
   "nbconvert_exporter": "python",
   "pygments_lexer": "ipython3",
   "version": "3.8.12"
  }
 },
 "nbformat": 4,
 "nbformat_minor": 4
}
