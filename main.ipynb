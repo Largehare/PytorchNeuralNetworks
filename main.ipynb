{
 "cells": [
  {
   "cell_type": "code",
   "execution_count": 1,
   "metadata": {},
   "outputs": [],
   "source": [
    "# 1.导入必要的库\n",
    "# 查看GPU信息：https://discuss.pytorch.org/t/i-have-3-gpu-why-torch-cuda-device-count-only-return-1/7245\n",
    "# 解决CUDA版本不能绘制图像问题  https://pretagteam.com/question/dead-kernel-after-running-torchvisionutilsmakegridimages\n",
    "import os\n",
    "os.environ['KMP_DUPLICATE_LIB_OK'] = 'True'\n",
    "import torch\n",
    "import sys\n",
    "from torch.optim import lr_scheduler\n",
    "import torch.nn as nn\n",
    "import torch.nn.functional as F\n",
    "from torch.autograd import Variable\n",
    "from torch.utils.data import DataLoader\n",
    "import torchvision.datasets as dsets\n",
    "import torchvision\n",
    "import torchvision.transforms as trans\n",
    "import time\n",
    "from datetime import datetime\n",
    "from torch.utils.tensorboard import SummaryWriter   \n",
    "from subprocess import call\n",
    "import matplotlib.pyplot as plt\n",
    "import numpy as np"
   ]
  },
  {
   "cell_type": "code",
   "execution_count": 2,
   "metadata": {},
   "outputs": [
    {
     "name": "stdout",
     "output_type": "stream",
     "text": [
      "__Python VERSION: 3.8.12 (default, Oct 12 2021, 03:01:40) [MSC v.1916 64 bit (AMD64)]\n",
      "__pyTorch VERSION: 1.10.0+cu102\n",
      "__pyTorchVision VERSION: 0.11.1+cu102\n",
      "__CUDA VERSION\n",
      "nvcc: NVIDIA (R) Cuda compiler driver\n",
      "Copyright (c) 2005-2019 NVIDIA Corporation\n",
      "Built on Wed_Oct_23_19:32:27_Pacific_Daylight_Time_2019\n",
      "Cuda compilation tools, release 10.2, V10.2.89\n",
      "__CUDNN VERSION: 7605\n",
      "__Number CUDA Devices: 1\n",
      "__Devices\n",
      "Active CUDA Device: GPU 0\n",
      "Available devices  1\n",
      "Current cuda device  0\n"
     ]
    }
   ],
   "source": [
    "# 输出Pytorch以及CUDA信息\n",
    "print('__Python VERSION:', sys.version)\n",
    "print('__pyTorch VERSION:', torch.__version__)\n",
    "print('__pyTorchVision VERSION:', torchvision.__version__)\n",
    "print('__CUDA VERSION')\n",
    "! nvcc --version\n",
    "print('__CUDNN VERSION:', torch.backends.cudnn.version())\n",
    "print('__Number CUDA Devices:', torch.cuda.device_count())\n",
    "print('__Devices')\n",
    "call([\"nvidia-smi\", \"--format=csv\", \"--query-gpu=index,name,driver_version,memory.total,memory.used,memory.free\"])\n",
    "print('Active CUDA Device: GPU', torch.cuda.current_device())\n",
    "print ('Available devices ', torch.cuda.device_count())\n",
    "print ('Current cuda device ', torch.cuda.current_device())\n"
   ]
  },
  {
   "cell_type": "code",
   "execution_count": 3,
   "metadata": {},
   "outputs": [],
   "source": [
    "\n",
    "# 超参数\n",
    "BATCH_SIZE = 100 #训练时每次送入图片的数量\n",
    "nepochs = 10 #训练次数\n",
    "LR = 0.1 #学习率\n",
    "\n",
    "# 定义损失函数为交叉熵损失 loss_func\n",
    "loss_func = nn.CrossEntropyLoss()\n",
    "\n",
    "# 可以在GPU或者CPU上运行\n",
    "device = torch.device('cuda' if torch.cuda.is_available() else 'cpu')"
   ]
  },
  {
   "cell_type": "code",
   "execution_count": 4,
   "metadata": {},
   "outputs": [],
   "source": [
    "# 2.CIFAR10数据集的预处理\n",
    "n_train_samples = 50000\n",
    "n_test_samples = 10000\n",
    "n_train_loss_samples = 1000 #得到训练误差用的\n",
    "# 全局取消证书验证\n",
    "import ssl\n",
    "ssl._create_default_https_context = ssl._create_unverified_context\n",
    "# 如果是多进程需要加一个main函数，否则会报错\n",
    "if __name__ == '__main__':\n",
    "    \n",
    "    # 数据增强-->训练集\n",
    "    train_set = dsets.CIFAR10(root='CIFAR10/',  # 数据集保存路径\n",
    "                              train=True,\n",
    "                              download=False,   # 如果未下载，改为True；如果已经下载好，改为False\n",
    "                              transform=trans.Compose([\n",
    "                                 trans.RandomHorizontalFlip(),\n",
    "                                 trans.RandomCrop(32, padding=4),\n",
    "                                 trans.ToTensor(),\n",
    "                                 trans.Normalize((0.5, 0.5, 0.5), (0.5, 0.5, 0.5)),\n",
    "                             ]))\n",
    "    train_subSet = torch.utils.data.Subset(train_set, range(0,n_train_samples))#取子集\n",
    "    train_dl = DataLoader(train_subSet,\n",
    "                          batch_size=BATCH_SIZE,\n",
    "                          shuffle=True,\n",
    "                          num_workers=6,\n",
    "                          )        # 多进程\n",
    "    #训练误差用的\n",
    "    train_loss_subSet = torch.utils.data.Subset(train_set, range(0,n_train_loss_samples))\n",
    "    train_loss_dl = DataLoader(train_loss_subSet,\n",
    "                          batch_size=BATCH_SIZE,\n",
    "                          shuffle=True,\n",
    "                          num_workers=6,\n",
    "                          ) \n",
    "\n",
    "    # 测试集                \n",
    "    train_subSet = torch.utils.data.Subset(train_set, range(0,n_train_samples))\n",
    "    test_set = dsets.CIFAR10(root='CIFAR10/',   # 数据集保存路径\n",
    "                             train=False,\n",
    "                             download=False,    # 如果未下载，改为True；如果已经下载好，改为False\n",
    "                             transform=trans.Compose([\n",
    "                                trans.ToTensor(),\n",
    "                                trans.Normalize((0.5, 0.5, 0.5), (0.5, 0.5, 0.5))\n",
    "                            ]))\n",
    "    test_subSet = torch.utils.data.Subset(test_set,range(0,n_test_samples))\n",
    "    test_dl = DataLoader(test_subSet,\n",
    "                         batch_size=BATCH_SIZE,\n",
    "                         shuffle=True,\n",
    "                         num_workers=6)         # 多进程\n",
    "    CIFAR_LABELS = ('airplane', 'automobile', 'bird', 'cat', 'deer', 'dog', 'frog', 'horse', 'ship', 'truck')"
   ]
  },
  {
   "cell_type": "code",
   "execution_count": 5,
   "metadata": {},
   "outputs": [
    {
     "name": "stdout",
     "output_type": "stream",
     "text": [
      "训练集大小:50000\n",
      "测试集大小:10000\n",
      "{'airplane': 0, 'automobile': 1, 'bird': 2, 'cat': 3, 'deer': 4, 'dog': 5, 'frog': 6, 'horse': 7, 'ship': 8, 'truck': 9}\n",
      "一张图片的数组size:(32, 32, 3)\n"
     ]
    },
    {
     "data": {
      "image/png": "[encoded data removed]",
      "text/plain": [
       "<Figure size 432x288 with 3 Axes>"
      ]
     },
     "metadata": {
      "needs_background": "light"
     },
     "output_type": "display_data"
    }
   ],
   "source": [
    "#输出CIFAR-10数据集训练集、测试集大小\n",
    "print(\"训练集大小:{}\".format(train_set.data.shape[0]))\n",
    "print(\"测试集大小:{}\".format(test_set.data.shape[0]))\n",
    "#所有类别名称及与label对应情况\n",
    "print(dict(zip(CIFAR_LABELS,(0,1,2,3,4,5,6,7,8,9))))\n",
    "# 显示3张测试集图像\n",
    "def show(img):\n",
    "    # unnormalize（反归一化），因为前面数据进行load时使用的\n",
    "    # transforms.Normalize((0.5, 0.5, 0.5), (0.5, 0.5, 0.5))\n",
    "    # 是先减0.5再除以0.5，现在反过来\n",
    "    img = img / 2 + 0.5\n",
    "    npimg = img.cpu().numpy()# 避免gpu形式的数据\n",
    "    plt.imshow(np.transpose(npimg, (1,2,0)), interpolation='nearest') #从数据库拿出来的图片是(3,x,x)形式，所以需要转化一下\n",
    "print(\"一张图片的数组size:{}\".format(train_set.data[50].shape))\n",
    "for i in range(1,4):\n",
    "    plt.subplot(1,3,i)\n",
    "    plt.axis(\"off\")\n",
    "    test_img, _ = test_set[50+i]\n",
    "    show(test_img)\n",
    "plt.tight_layout()"
   ]
  },
  {
   "cell_type": "code",
   "execution_count": null,
   "metadata": {},
   "outputs": [],
   "source": []
  },
  {
   "cell_type": "code",
   "execution_count": 6,
   "metadata": {},
   "outputs": [],
   "source": [
    "# 3.定义训练的辅助函数，其中包括误差 error 与正确率 accuracy\n",
    "def eval(model, loss_func, dataloader):\n",
    "\n",
    "    model.eval()\n",
    "    loss, accuracy = 0, 0\n",
    "    # torch.no_grad显示地告诉pytorch，前向传播的时候不需要存储计算图\n",
    "    with torch.no_grad():\n",
    "        for batch_x, batch_y in dataloader:\n",
    "            batch_x, batch_y = batch_x.to(device), batch_y.to(device)\n",
    "            logits = model(batch_x)\n",
    "            error = loss_func(logits, batch_y)\n",
    "            loss += error.item()\n",
    "\n",
    "            probs, pred_y = logits.data.max(dim=1)\n",
    "            accuracy += (pred_y==batch_y.data).float().sum()/batch_y.size(0)\n",
    "\n",
    "    loss /= len(dataloader)\n",
    "    accuracy = accuracy*100.0/len(dataloader)\n",
    "    return loss, accuracy\n",
    "\n",
    "\n",
    "def train_epoch(model, loss_func, optimizer, dataloader):\n",
    "\n",
    "    model.train()\n",
    "    for batch_x, batch_y in dataloader:\n",
    "        batch_x, batch_y = batch_x.to(device), batch_y.to(device)\n",
    "        optimizer.zero_grad()\n",
    "        logits = model(batch_x)\n",
    "        error = loss_func(logits, batch_y)\n",
    "        error.backward()\n",
    "        optimizer.step()"
   ]
  },
  {
   "cell_type": "code",
   "execution_count": 7,
   "metadata": {},
   "outputs": [],
   "source": [
    "# 定义卷积层，在CNNNetNet中，均使用3x3的卷积核\n",
    "def conv3x3(in_features, out_features): \n",
    "    return nn.Conv2d(in_features, out_features, kernel_size=3, padding=1)"
   ]
  },
  {
   "cell_type": "code",
   "execution_count": 8,
   "metadata": {},
   "outputs": [],
   "source": [
    "# 搭建CNNNet\n",
    "class CNNNet(nn.Module):\n",
    "    def __init__(self):\n",
    "        super(CNNNet, self).__init__()\n",
    "        self.features = nn.Sequential(\n",
    "        # Convolutional layers\n",
    "        nn.Conv2d(3, 16, 3, padding=1),\n",
    "        # nn.ReLU(True),#激活函数\n",
    "        # nn.Tanh(),\n",
    "        # Pooling layers\n",
    "        nn.MaxPool2d(2,2),\n",
    "        nn.Conv2d(16, 32, 3, padding=1),\n",
    "        # nn.ReLU(True),\n",
    "        # nn.Tanh(),\n",
    "        nn.MaxPool2d(2,2),\n",
    "        nn.Conv2d(32, 64, 3, padding=1),\n",
    "        # nn.ReLU(True),\n",
    "        # nn.Tanh(),\n",
    "        nn.MaxPool2d(2,2)\n",
    "        )\n",
    "        \n",
    "        self.classifier = nn.Sequential(\n",
    "        # Dropout layer\n",
    "        nn.Dropout(0.25),\n",
    "        # FC layers\n",
    "        # Linear layer (64x4x4 -> 500)\n",
    "        nn.Linear(64 * 4 * 4, 500),\n",
    "        # nn.ReLU(True),\n",
    "        # nn.Tanh(),\n",
    "        nn.Dropout(0.25),\n",
    "        # Linear Layer (500 -> 10)\n",
    "        nn.Linear(500, 10),\n",
    "        )\n",
    "    def forward(self, x):\n",
    "        x=self.features(x)\n",
    "        \n",
    "        # Flatten the image\n",
    "        x = x.view(-1, 64*4*4)\n",
    "        x = self.classifier(x)\n",
    "        return x\n"
   ]
  },
  {
   "cell_type": "code",
   "execution_count": 9,
   "metadata": {},
   "outputs": [
    {
     "name": "stdout",
     "output_type": "stream",
     "text": [
      "未检测到已有模型，新建训练模型\n",
      "CNNNet(\n",
      "  (features): Sequential(\n",
      "    (0): Conv2d(3, 16, kernel_size=(3, 3), stride=(1, 1), padding=(1, 1))\n",
      "    (1): MaxPool2d(kernel_size=2, stride=2, padding=0, dilation=1, ceil_mode=False)\n",
      "    (2): Conv2d(16, 32, kernel_size=(3, 3), stride=(1, 1), padding=(1, 1))\n",
      "    (3): MaxPool2d(kernel_size=2, stride=2, padding=0, dilation=1, ceil_mode=False)\n",
      "    (4): Conv2d(32, 64, kernel_size=(3, 3), stride=(1, 1), padding=(1, 1))\n",
      "    (5): MaxPool2d(kernel_size=2, stride=2, padding=0, dilation=1, ceil_mode=False)\n",
      "  )\n",
      "  (classifier): Sequential(\n",
      "    (0): Dropout(p=0.25, inplace=False)\n",
      "    (1): Linear(in_features=1024, out_features=500, bias=True)\n",
      "    (2): Dropout(p=0.25, inplace=False)\n",
      "    (3): Linear(in_features=500, out_features=10, bias=True)\n",
      "  )\n",
      ")\n"
     ]
    }
   ],
   "source": [
    "isTrained = None\n",
    "# 尝试加载已有模型\n",
    "try:\n",
    "    cnnNet = torch.load('./model/cnnNet.pkl') #需要改名\n",
    "    print(\"成功加载已有模型\")\n",
    "    isTrained = True\n",
    "except:\n",
    "    print(\"未检测到已有模型，新建训练模型\")\n",
    "    isTrained = False\n",
    "    cnnNet = CNNNet().to(device)\n",
    "    # 使用Adam进行优化处理\n",
    "    optimizer = torch.optim.Adam(cnnNet.parameters(), lr=LR)\n",
    "    # scheduler = lr_scheduler.MultiStepLR(optimizer, milestones=[40], gamma=0.1)\n",
    "    scheduler = lr_scheduler.ReduceLROnPlateau(optimizer, 'min')#学习率自动调整\n",
    "    learn_history = []\n",
    "# 可以通过打印CNNNet观察具体的网络结构\n",
    "print(cnnNet) \n",
    "\n"
   ]
  },
  {
   "cell_type": "code",
   "execution_count": 10,
   "metadata": {
    "scrolled": true
   },
   "outputs": [
    {
     "name": "stdout",
     "output_type": "stream",
     "text": [
      "开始训练cnnNet……\n",
      "[  1/10, 54 seconds]|\t 训练误差: 1.2e+01, 训练正确率: 34.90\t\n",
      "[  2/10, 51 seconds]|\t 训练误差: 3.5e+00, 训练正确率: 41.10\t\n",
      "[  3/10, 50 seconds]|\t 训练误差: 1.9e+00, 训练正确率: 48.20\t\n",
      "[  4/10, 50 seconds]|\t 训练误差: 1.6e+00, 训练正确率: 48.70\t\n",
      "[  5/10, 49 seconds]|\t 训练误差: 1.5e+00, 训练正确率: 47.70\t\n",
      "[  6/10, 49 seconds]|\t 训练误差: 1.5e+00, 训练正确率: 48.90\t\n",
      "[  7/10, 50 seconds]|\t 训练误差: 1.7e+00, 训练正确率: 41.10\t\n",
      "[  8/10, 52 seconds]|\t 训练误差: 1.4e+00, 训练正确率: 49.40\t\n"
     ]
    }
   ],
   "source": [
    "\n",
    "if not isTrained:\n",
    "    \n",
    "    print('开始训练cnnNet……')\n",
    "    # tensorboard教程：https://blog.csdn.net/Yonggie/article/details/104326432?utm_medium=distribute.pc_relevant.none-task-blog-2~default~baidujs_title~default-0.no_search_link&spm=1001.2101.3001.4242.1\n",
    "    time_stamp = \"{0:%Y-%m-%dT%H-%M-%S}\".format(datetime.now())#时间戳\n",
    "    comment=f'bath_size={BATCH_SIZE} lr={LR}'\n",
    "    writer=SummaryWriter(log_dir=\"log/\"+time_stamp+\"_bs%d_lr%.4f\"%(BATCH_SIZE,LR),comment=comment)#防止多个event紊乱需要每次运行时创建新文件夹\n",
    "\n",
    "\n",
    "    # dummy_input = torch.rand(50000, 3, 32, 32)  # 假设输入50000张3*32*32的图片\n",
    "    # writer.add_graph(cnnNet,(dummy_input,))#写入神经网络结构\n",
    "    for epoch in range(nepochs):\n",
    "        # 训练开始时间\n",
    "        since = time.time()\n",
    "        train_epoch(cnnNet, loss_func, optimizer, train_dl)\n",
    "        \n",
    "        # 每训练n轮输出一次结果\n",
    "        if (epoch)%1 == 0:\n",
    "            tr_loss, tr_acc = eval(cnnNet, loss_func, train_loss_dl)\n",
    "            # te_loss, te_acc = eval(cnnNet, loss_func, test_dl)\n",
    "            scheduler.step(tr_loss)\n",
    "            learn_history.append((tr_loss, tr_acc))\n",
    "            writer.add_scalar('tr_loss', tr_loss, epoch)\n",
    "            writer.add_scalar('tr_acc', tr_acc, epoch)\n",
    "            # 完成一批次训练的结束时间\n",
    "            now = time.time()\n",
    "            # print('[%3d/%d, %.0f seconds]|\\t 训练误差: %.1e, 训练正确率: %.2f\\t |\\t 测试误差: %.1e, 测试正确率: %.2f'%(\n",
    "            #     epoch+1, nepochs, now-since, tr_loss, tr_acc, te_loss, te_acc))\n",
    "            print('[%3d/%d, %.0f seconds]|\\t 训练误差: %.1e, 训练正确率: %.2f\\t'%(\n",
    "                epoch+1, nepochs, now-since, tr_loss, tr_acc))\n",
    "            \n",
    "    isTrained = True\n",
    "    writer.close()\n",
    "    # 保存训练模型\n",
    "    torch.save(cnnNet, './model/{}_bs{}_lr{}.pkl'.format(time_stamp,BATCH_SIZE,LR))#如果没有model文件夹需要手动创建一个"
   ]
  },
  {
   "cell_type": "code",
   "execution_count": null,
   "metadata": {},
   "outputs": [
    {
     "name": "stdout",
     "output_type": "stream",
     "text": [
      "真实标签: airplane 0\n",
      "预测标签: airplane 0\n",
      "所有标签预测概率: tensor([5.2937e-01, 5.3159e-03, 1.7539e-01, 2.0269e-03, 5.1957e-03, 5.2466e-04,\n",
      "        2.7688e-03, 5.3650e-04, 2.7592e-01, 2.9608e-03], device='cuda:0',\n",
      "       grad_fn=<SoftmaxBackward0>)\n",
      "预测概率: 0.5293689370155334\n"
     ]
    },
    {
     "data": {
      "image/png": "[encoded data removed]",
      "text/plain": [
       "<Figure size 432x288 with 1 Axes>"
      ]
     },
     "metadata": {
      "needs_background": "light"
     },
     "output_type": "display_data"
    }
   ],
   "source": [
    "torch.cuda.empty_cache()\n",
    "#预测\n",
    "def tell(img, label, model, target_label=None):\n",
    "    print(\"真实标签:\", CIFAR_LABELS[label], label)\n",
    "    print(\"预测标签:\", CIFAR_LABELS[model(img.unsqueeze(0)).max(-1)[1]], model(img.unsqueeze(0)).max(-1)[1][0].item())\n",
    "    print(\"所有标签预测概率:\", F.softmax(model(img.unsqueeze(0)).squeeze(), dim=0))\n",
    "    print(\"预测概率:\", F.softmax(model(img.unsqueeze(0)).squeeze(), dim=0)[label].item())\n",
    "    if target_label is not None:\n",
    "        print(\"Target Label Probability:\", F.softmax(model(img.unsqueeze(0)).squeeze(), dim=0)[target_label].item())\n",
    "test_img, test_label = test_set[3]\n",
    "test_img = test_img.to(device)\n",
    "show(test_img)\n",
    "tell(test_img, test_label, cnnNet)"
   ]
  },
  {
   "cell_type": "code",
   "execution_count": null,
   "metadata": {},
   "outputs": [
    {
     "ename": "SyntaxError",
     "evalue": "invalid syntax (<ipython-input-50-96702768262d>, line 1)",
     "output_type": "error",
     "traceback": [
      "\u001b[1;36m  File \u001b[1;32m\"<ipython-input-50-96702768262d>\"\u001b[1;36m, line \u001b[1;32m1\u001b[0m\n\u001b[1;33m    https://tensorboard.dev/experiment/QFRIzZJpTZCNRzi8N7zomA/#scalars&run=lr_1E-04%2Cconv%3D1%2Cfc%3D2\u001b[0m\n\u001b[1;37m          ^\u001b[0m\n\u001b[1;31mSyntaxError\u001b[0m\u001b[1;31m:\u001b[0m invalid syntax\n"
     ]
    }
   ],
   "source": []
  }
 ],
 "metadata": {
  "kernelspec": {
   "display_name": "Python 3",
   "language": "python",
   "name": "python3"
  },
  "language_info": {
   "codemirror_mode": {
    "name": "ipython",
    "version": 3
   },
   "file_extension": ".py",
   "mimetype": "text/x-python",
   "name": "python",
   "nbconvert_exporter": "python",
   "pygments_lexer": "ipython3",
   "version": "3.8.12"
  }
 },
 "nbformat": 4,
 "nbformat_minor": 4
}
